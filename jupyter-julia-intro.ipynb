{
 "cells": [
  {
   "cell_type": "markdown",
   "source": [
    "# Computational tools for social scientists\n",
    "## A reproducible report with Jupyter and Julia\n",
    "## Ivan Rudik"
   ],
   "metadata": {
    "slideshow": {
     "slide_type": "slide"
    }
   }
  },
  {
   "cell_type": "markdown",
   "source": [
    "# Jupyter\n",
    "\n",
    "What's a Jupyter notebook?"
   ],
   "metadata": {
    "slideshow": {
     "slide_type": "slide"
    }
   }
  },
  {
   "cell_type": "markdown",
   "source": [
    "A web-based computational environment with a bunch of input/output cells that have code, markdown, plots, and other stuff"
   ],
   "metadata": {
    "slideshow": {
     "slide_type": "fragment"
    }
   }
  },
  {
   "cell_type": "code",
   "execution_count": 12,
   "source": [
    "# # Load up Julia environment\n",
    "# using Pkg\n",
    "# Pkg.activate(\".\")\n",
    "# Pkg.instantiate()\n",
    "VERSION"
   ],
   "outputs": [
    {
     "output_type": "execute_result",
     "data": {
      "text/plain": [
       "v\"1.6.2\""
      ]
     },
     "metadata": {},
     "execution_count": 12
    }
   ],
   "metadata": {}
  },
  {
   "cell_type": "code",
   "execution_count": 13,
   "source": [
    "# using Plots\n",
    "# x = collect(range(.1, stop = .2, length = 10)) # generate evenly spaced grid\n",
    "# mc = ones(size(x)).*2                          # generate equal length vector of mc=2\n",
    "\n",
    "# # Demand function\n",
    "# demand(p) = p.^(-0.2)/2 .+ p.^(-0.5)/2"
   ],
   "outputs": [],
   "metadata": {
    "slideshow": {
     "slide_type": "fragment"
    }
   }
  },
  {
   "cell_type": "code",
   "execution_count": 14,
   "source": [
    "# # Get corresponding quantity values at these prices\n",
    "# y = demand(x)\n",
    "# plot(x, [y mc],\n",
    "#     linestyle = [:solid :dot],\n",
    "#     linewidth = [3 3],\n",
    "#     linecolor = [:red :blue],\n",
    "#     tickfontsize = 12,\n",
    "#     grid = :no,\n",
    "#     xlabel = \"Quantity\",\n",
    "#     ylabel = \"Price\",\n",
    "#     label = [\"p(q)\" \"Marginal Cost\"])"
   ],
   "outputs": [],
   "metadata": {
    "slideshow": {
     "slide_type": "slide"
    }
   }
  },
  {
   "cell_type": "markdown",
   "source": [
    "The notebook can be easily exported to html, pdf, latex, etc"
   ],
   "metadata": {
    "slideshow": {
     "slide_type": "fragment"
    }
   }
  },
  {
   "cell_type": "markdown",
   "source": [
    "Jupyter is named after its three core languages: **Ju**lia, **Py**thon, **R**"
   ],
   "metadata": {
    "slideshow": {
     "slide_type": "fragment"
    }
   }
  },
  {
   "cell_type": "markdown",
   "source": [
    "# Why use Jupyter notebooks?"
   ],
   "metadata": {
    "slideshow": {
     "slide_type": "slide"
    }
   }
  },
  {
   "cell_type": "markdown",
   "source": [
    "## Integrated\n",
    "\n",
    "The code, description, and output are in a single document\n",
    "\n",
    "This promotes an iterative, on-the-fly workflow"
   ],
   "metadata": {
    "slideshow": {
     "slide_type": "fragment"
    }
   }
  },
  {
   "cell_type": "markdown",
   "source": [
    "## Fast\n",
    "\n",
    "You can spin up a notebook session really quick, in shell just type: ``jupyter notebook``\n",
    "\n",
    "You can compile a new, single block of code with just `cmd+enter`"
   ],
   "metadata": {
    "slideshow": {
     "slide_type": "fragment"
    }
   }
  },
  {
   "cell_type": "markdown",
   "source": [
    "## Portable\n",
    "\n",
    "You run notebooks in a web browser and VSCode with or without an internet connection, send and use notebooks across OS's easily"
   ],
   "metadata": {
    "slideshow": {
     "slide_type": "fragment"
    }
   }
  },
  {
   "cell_type": "markdown",
   "source": [
    "# How to think about Jupyter\n",
    "\n",
    "One way to think about it is along a spectrum of integration/speed\n",
    "\n",
    "## Separate code/document/output\n",
    "1. Write code\n",
    "2. Execute code\n",
    "3. Write document\n",
    "4. Execute document\n",
    "\n",
    "## RMarkdown\n",
    "1. Write code and document\n",
    "2. Execute code and document\n",
    "\n",
    "## Jupyter\n",
    "1. Write code and/or document chunk\n",
    "2. Execute code and/or document chunk\n",
    "3. Repeat"
   ],
   "metadata": {
    "slideshow": {
     "slide_type": "slide"
    }
   }
  },
  {
   "cell_type": "markdown",
   "source": [
    "# Ways to use Jupyter"
   ],
   "metadata": {
    "slideshow": {
     "slide_type": "slide"
    }
   }
  },
  {
   "cell_type": "markdown",
   "source": [
    "## Slides\n",
    "\n",
    "You can use Jupyter with RISE and reveal.js to make a relatively decent set of slides\n",
    "\n",
    "Code is embedded so it's dynamic like LaTeX\n",
    "\n",
    "Takes a little bit of css work to make it look good\n",
    "\n",
    "Works similarly to RMarkdown slides, but with better integration / on-the-fly capabilities"
   ],
   "metadata": {
    "slideshow": {
     "slide_type": "fragment"
    }
   }
  },
  {
   "cell_type": "markdown",
   "source": [
    "## Prelim analyses\n",
    "\n",
    "I'll start new code in Jupyter notebooks since they're quick to spin up and code interactively\n",
    "\n",
    "Also make for a nice way to share results with co-authors since you can add text / description throughout in a clear way"
   ],
   "metadata": {
    "slideshow": {
     "slide_type": "fragment"
    }
   }
  },
  {
   "cell_type": "markdown",
   "source": [
    "# How to use a notebook\n",
    "\n",
    "Finally, how do we navigate and use a notebook?\n",
    "\n",
    "Exit out of the slides with `alt+r` and we will explore the Jupyter interface"
   ],
   "metadata": {
    "slideshow": {
     "slide_type": "slide"
    }
   }
  },
  {
   "cell_type": "code",
   "execution_count": 15,
   "source": [
    "# This is a code cell\n",
    "# Press cmd+enter to run, shift+enter to run and move to the next cell\n",
    "foobar = 5+5\n",
    "\n",
    "println(\"5+5 = $foobar.\")"
   ],
   "outputs": [
    {
     "output_type": "stream",
     "name": "stdout",
     "text": [
      "5+5 = 10.\n"
     ]
    }
   ],
   "metadata": {
    "slideshow": {
     "slide_type": "slide"
    }
   }
  },
  {
   "cell_type": "code",
   "execution_count": 16,
   "source": [
    "# Cells can reference variables defined in previous cells\n",
    "\n",
    "println(\"Again, 5+5 = $foobar.\")"
   ],
   "outputs": [
    {
     "output_type": "stream",
     "name": "stdout",
     "text": [
      "Again, 5+5 = 10.\n"
     ]
    }
   ],
   "metadata": {
    "slideshow": {
     "slide_type": "slide"
    }
   }
  },
  {
   "cell_type": "code",
   "execution_count": 17,
   "source": [
    "# #You can have slightly more complicated expressions and computations\n",
    "# using Random\n",
    "# Random.seed!(1234321)\n",
    "\n",
    "# A = rand(5, 5) # Random 5x5 array\n",
    "# b = rand(5) # Random 5 element vector\n",
    "# x = A\\b # Solve the linear system"
   ],
   "outputs": [],
   "metadata": {
    "slideshow": {
     "slide_type": "slide"
    }
   }
  },
  {
   "cell_type": "markdown",
   "source": [
    "# Reproducibility\n",
    "\n",
    "Julia makes reproducibility and versioning very easy with the package manager `Pkg`\n",
    "\n",
    "All you need to do is activate your project `Pkg.activate(\"directory_here\")` and it generates `.toml` files that give the unique GitHub SHA hashes for the package versions and all dependencies\n",
    "\n",
    "```\n",
    "[deps]\n",
    "LinearAlgebra = \"37e2e46d-f89d-539d-b4ee-838fcccc9c8e\"\n",
    "Plots = \"91a5bcdd-55d7-5caf-9e0b-520d859cae80\"\n",
    "Random = \"9a3f8284-a2c9-5f02-9a11-845980a1fd5c\"\n",
    "\n",
    "[compat]\n",
    "julia = \"1.3\"\n",
    "```\n",
    "\n",
    "These are the packages, versions, and julia version used in this notebook"
   ],
   "metadata": {
    "slideshow": {
     "slide_type": "slide"
    }
   }
  },
  {
   "cell_type": "markdown",
   "source": [
    "# Reproducibility\n",
    "\n",
    "Others can instantiate your project quickly with `Pkg.instantiate()` as in the top code cell\n",
    "\n",
    "Atom/VSCode integrate with GitHub making version control very easy as well\n",
    "\n",
    "VSCode also integrates well with Jupyter (wrote this notebook using VSCode!)\n",
    "\n",
    "![github in atom](images/atom_github.png)"
   ],
   "metadata": {
    "slideshow": {
     "slide_type": "slide"
    }
   }
  },
  {
   "cell_type": "markdown",
   "source": [
    "# What is Julia?\n",
    "\n",
    "Distinctive aspects of Julia's design include a type system with parametric polymorphism in a **dynamic programming language**; with **multiple dispatch** as its core programming paradigm [...] Julia uses a **just-in-time (JIT) compiler** that is referred to as \"just-ahead-of-time\" (JAOT) in the Julia community, as Julia compiles (on default settings) to machine code before running it."
   ],
   "metadata": {
    "slideshow": {
     "slide_type": "slide"
    }
   }
  },
  {
   "cell_type": "markdown",
   "source": [
    "# Language characteristics\n",
    "\n",
    "**Dynamically typed:** Julia doesn't need types to be known until runtime (Julia, R, MATLAB, Python)\n",
    "- All of these languages you can code interactively in the IDE/REPL\n",
    "\n",
    "**Statically typed:** These languages enforce type at compile time, typically need to be declared (C++, Java, FORTRAN)\n",
    "\n",
    "**Compiled:** Julia is translated to machine code by a **just-in-time** compiler, makes it faster than intepreted languages like R or Python (Julia, C variants, Java, FORTRAN)\n",
    "- Julia typically gains its speed after a pre-compile of your functions\n",
    "\n",
    "**Interpreted:** These langauges execute instructions freely without being compiled beforehand. This gives a lot of flexibility, allows for more interactive coding.\n",
    "\n",
    "This combination of dynamic + compiled is relatively rare and lets you have speed of C/FORTRAN with the interactiveness and flexibility of R, Python, Stata (interpreting code at runtime has a lot of overhead $\\rightarrow$ slow)\n",
    "\n",
    "This does come with some costs of **needing to know what you're doing**\n",
    "\n",
    "If you code without thinking you'll just get R or Python speed (but imo still better coding syntax)"
   ],
   "metadata": {
    "slideshow": {
     "slide_type": "slide"
    }
   }
  },
  {
   "cell_type": "markdown",
   "source": [
    "# Generic coding infrastructure\n",
    "\n",
    "Speed in a dynamically typed language comes from letting the compiler know types will be stable $\\rightarrow$ it can compile type specific functions"
   ],
   "metadata": {
    "slideshow": {
     "slide_type": "slide"
    }
   }
  },
  {
   "cell_type": "markdown",
   "source": [
    "This seems tricky if we don't want to declare types ahead of time but it can be done with generic coding:"
   ],
   "metadata": {
    "slideshow": {
     "slide_type": "fragment"
    }
   }
  },
  {
   "cell_type": "code",
   "execution_count": 18,
   "source": [
    "#  using LinearAlgebra               # necessary for I\n",
    "#  function sametypes(x)\n",
    "#    y = similar(x)                  # creates an array that is `similar` to x, use this for preallocating\n",
    "#    z = I                           # creates a scalable identity matrix\n",
    "#    q = ones(eltype(x), length(x))  # one is a type generic array of ones, fill creates the array of length(x)\n",
    "#    y .= z * x + q\n",
    "#    return y\n",
    "#  end"
   ],
   "outputs": [],
   "metadata": {
    "slideshow": {
     "slide_type": "fragment"
    }
   }
  },
  {
   "cell_type": "code",
   "execution_count": 19,
   "source": [
    "# # Generic coding infrastructure\n",
    "# x = [5.5, 7.0, 3.1];\n",
    "# y = [7, 8, 9];\n",
    "# print(\"x is $(typeof(x)), y is $(typeof(y)).\")"
   ],
   "outputs": [],
   "metadata": {
    "slideshow": {
     "slide_type": "fragment"
    }
   }
  },
  {
   "cell_type": "markdown",
   "source": [
    "Let's see the types of the variables throughout the function"
   ],
   "metadata": {
    "slideshow": {
     "slide_type": "fragment"
    }
   }
  },
  {
   "cell_type": "code",
   "execution_count": 20,
   "source": [
    "# @code_warntype sametypes(x)"
   ],
   "outputs": [],
   "metadata": {
    "slideshow": {
     "slide_type": "slide"
    }
   }
  },
  {
   "cell_type": "code",
   "execution_count": 21,
   "source": [
    "# @code_warntype sametypes(y)"
   ],
   "outputs": [],
   "metadata": {
    "slideshow": {
     "slide_type": "fragment"
    }
   }
  },
  {
   "cell_type": "markdown",
   "source": [
    "The function maintained the same type throughout given the input types: this is called **type stability**\n",
    "\n",
    "If `sametypes` gets `Int64` inputs, it knows to use the compiled `Int64` version of the function rather than deciding at runtime $\\rightarrow$ significant speed up vs interpreted languages"
   ],
   "metadata": {
    "slideshow": {
     "slide_type": "slide"
    }
   }
  }
 ],
 "metadata": {
  "@webio": {
   "lastCommId": null,
   "lastKernelId": null
  },
  "celltoolbar": "Slideshow",
  "kernelspec": {
   "display_name": "Julia 1.6.2",
   "language": "julia",
   "name": "julia-1.6"
  },
  "language_info": {
   "file_extension": ".jl",
   "mimetype": "application/julia",
   "name": "julia",
   "version": "1.6.2"
  },
  "livereveal": {
   "theme": "white",
   "transition": "fade"
  },
  "rise": {
   "autolaunch": true,
   "enable_chalkboard": true,
   "height": "100%",
   "margin-top": 0,
   "scroll": true,
   "start_slideshow_at": "beginning",
   "top": 0,
   "width": "100%"
  },
  "varInspector": {
   "cols": {
    "lenName": 16,
    "lenType": 16,
    "lenVar": 40
   },
   "kernels_config": {
    "python": {
     "delete_cmd_postfix": "",
     "delete_cmd_prefix": "del ",
     "library": "var_list.py",
     "varRefreshCmd": "print(var_dic_list())"
    },
    "r": {
     "delete_cmd_postfix": ") ",
     "delete_cmd_prefix": "rm(",
     "library": "var_list.r",
     "varRefreshCmd": "cat(var_dic_list()) "
    }
   },
   "types_to_exclude": [
    "module",
    "function",
    "builtin_function_or_method",
    "instance",
    "_Feature"
   ],
   "window_display": false
  }
 },
 "nbformat": 4,
 "nbformat_minor": 4
}