{
 "cells": [
  {
   "cell_type": "markdown",
   "metadata": {
    "slideshow": {
     "slide_type": "slide"
    }
   },
   "source": [
    "# Computational tools for social scientists\n",
    "## Jupyter and Julia\n",
    "## Ivan Rudik"
   ]
  },
  {
   "cell_type": "code",
   "execution_count": 2,
   "metadata": {
    "slideshow": {
     "slide_type": "skip"
    }
   },
   "outputs": [],
   "source": [
    "using Plots"
   ]
  },
  {
   "cell_type": "markdown",
   "metadata": {
    "slideshow": {
     "slide_type": "slide"
    }
   },
   "source": [
    "# Jupyter\n",
    "\n",
    "What's a Jupyter notebook?"
   ]
  },
  {
   "cell_type": "markdown",
   "metadata": {
    "slideshow": {
     "slide_type": "fragment"
    }
   },
   "source": [
    "A web-based computational environment with a bunch of input/output cells that have code, markdown, plots, and other stuff"
   ]
  },
  {
   "cell_type": "code",
   "execution_count": null,
   "metadata": {
    "slideshow": {
     "slide_type": "fragment"
    }
   },
   "outputs": [],
   "source": [
    "using Plots\n",
    "x = collect(range(.1, stop = .2, length = 10)) # generate evenly spaced grid\n",
    "q_d = ones(size(x)).*2                         # generate equal length vector of qd=2\n",
    "\n",
    "# Price function\n",
    "price(p) = p.^(-0.2)/2 .+ p.^(-0.5)/2"
   ]
  },
  {
   "cell_type": "code",
   "execution_count": null,
   "metadata": {
    "slideshow": {
     "slide_type": "slide"
    }
   },
   "outputs": [],
   "source": [
    "# Get corresponding quantity values at these prices\n",
    "y = price(x)\n",
    "plot(x, [y q_d],\n",
    "    linestyle = [:solid :dot],\n",
    "    linewidth = [3 3],\n",
    "    linecolor = [:red :blue],\n",
    "    tickfontsize = 12,\n",
    "    grid = :no,\n",
    "    xlabel = \"Price\",\n",
    "    ylabel = \"Quantity\",\n",
    "    label = [\"q(p)\" \"Quantity Demanded\"])"
   ]
  },
  {
   "cell_type": "markdown",
   "metadata": {
    "slideshow": {
     "slide_type": "fragment"
    }
   },
   "source": [
    "The notebook can be easily exported to html, pdf, latex, etc"
   ]
  },
  {
   "cell_type": "markdown",
   "metadata": {
    "slideshow": {
     "slide_type": "fragment"
    }
   },
   "source": [
    "Jupyter is named after its three core languages: **Ju**lia, **Py**thon, **R**"
   ]
  },
  {
   "cell_type": "markdown",
   "metadata": {
    "slideshow": {
     "slide_type": "slide"
    }
   },
   "source": [
    "# Why use Jupyter notebooks?"
   ]
  },
  {
   "cell_type": "markdown",
   "metadata": {
    "slideshow": {
     "slide_type": "fragment"
    }
   },
   "source": [
    "## Integrated\n",
    "\n",
    "The code, description, and output are in a single document\n",
    "\n",
    "This promotes an iterative, on-the-fly workflow"
   ]
  },
  {
   "cell_type": "markdown",
   "metadata": {
    "slideshow": {
     "slide_type": "fragment"
    }
   },
   "source": [
    "## Fast\n",
    "\n",
    "You can spin up a notebook session really quick, in shell just type: ``jupyter notebook``\n",
    "\n",
    "You can compile a new, single block of code with just `cmd+enter` like an IDE"
   ]
  },
  {
   "cell_type": "markdown",
   "metadata": {
    "slideshow": {
     "slide_type": "fragment"
    }
   },
   "source": [
    "## Portable\n",
    "\n",
    "You run notebooks in a web browser with or without an internet connection, send and use notebooks across OS's easily"
   ]
  },
  {
   "cell_type": "markdown",
   "metadata": {
    "slideshow": {
     "slide_type": "slide"
    }
   },
   "source": [
    "# How to think about Jupyter\n",
    "\n",
    "One way to think about it is along a spectrum of integration/speed\n",
    "\n",
    "## Separate code/document/output\n",
    "1. Write code\n",
    "2. Execute code\n",
    "3. Write document\n",
    "4. Execute document\n",
    "\n",
    "## RMarkdown\n",
    "1. Write code and document\n",
    "2. Execute code and document\n",
    "\n",
    "## Jupyter\n",
    "1. Write code and/or document chunk\n",
    "2. Execute code and/or document chunk\n",
    "3. Repeat"
   ]
  },
  {
   "cell_type": "markdown",
   "metadata": {
    "slideshow": {
     "slide_type": "slide"
    }
   },
   "source": [
    "# How I use Jupyter"
   ]
  },
  {
   "cell_type": "markdown",
   "metadata": {
    "slideshow": {
     "slide_type": "fragment"
    }
   },
   "source": [
    "## Slides\n",
    "\n",
    "You can use Jupyter with RISE and reveal.js to make a relatively decent set of slides\n",
    "\n",
    "Code is embedded so it's dynamic like LaTeX\n",
    "\n",
    "Takes a little bit of css work to make it look good"
   ]
  },
  {
   "cell_type": "markdown",
   "metadata": {
    "slideshow": {
     "slide_type": "fragment"
    }
   },
   "source": [
    "## RA work\n",
    "\n",
    "My RAs often use Jupyter notebook\n",
    "\n",
    "Makes everyones lives easier because code, output, etc is all integrated in one location"
   ]
  },
  {
   "cell_type": "markdown",
   "metadata": {
    "slideshow": {
     "slide_type": "fragment"
    }
   },
   "source": [
    "## Prelim analyses\n",
    "\n",
    "I'll start new code in Jupyter notebooks since they're quick to spin up and code interactively"
   ]
  },
  {
   "cell_type": "markdown",
   "metadata": {
    "slideshow": {
     "slide_type": "slide"
    }
   },
   "source": [
    "# How to use a notebook\n",
    "\n",
    "Finally, how do we navigate and use a notebook?\n",
    "\n",
    "Exit out of the slides with `alt+r` and we will explore the Jupyter interface"
   ]
  },
  {
   "cell_type": "code",
   "execution_count": 13,
   "metadata": {
    "slideshow": {
     "slide_type": "slide"
    }
   },
   "outputs": [
    {
     "name": "stdout",
     "output_type": "stream",
     "text": [
      "5+5 = 10.\n"
     ]
    }
   ],
   "source": [
    "# This is a code cell\n",
    "# Press cmd+enter to run, shift+enter to run and move to the next cell\n",
    "foobar = 5+5\n",
    "\n",
    "println(\"5+5 = $foobar.\")"
   ]
  },
  {
   "cell_type": "code",
   "execution_count": 16,
   "metadata": {
    "slideshow": {
     "slide_type": "slide"
    }
   },
   "outputs": [
    {
     "name": "stdout",
     "output_type": "stream",
     "text": [
      "Again, 5+5 = 10.\n"
     ]
    }
   ],
   "source": [
    "# Cells can reference variables defined in previous cells\n",
    "\n",
    "println(\"Again, 5+5 = $foobar.\")"
   ]
  },
  {
   "cell_type": "code",
   "execution_count": 31,
   "metadata": {
    "slideshow": {
     "slide_type": "slide"
    }
   },
   "outputs": [
    {
     "data": {
      "text/plain": [
       "5-element Array{Float64,1}:\n",
       "  0.7841295946313819\n",
       "  0.7513739864773739\n",
       "  0.8035199588959565\n",
       " -1.6359617126881012\n",
       "  0.5610554369390122"
      ]
     },
     "execution_count": 31,
     "metadata": {},
     "output_type": "execute_result"
    }
   ],
   "source": [
    "#You can have slightly more complicated expressions and computations\n",
    "using Random\n",
    "Random.seed!(1234321)\n",
    "\n",
    "A = rand(5, 5) # Random 5x5 array\n",
    "b = rand(5) # Random 5 element vector\n",
    "x = A\\b"
   ]
  },
  {
   "cell_type": "markdown",
   "metadata": {
    "slideshow": {
     "slide_type": "slide"
    }
   },
   "source": [
    "# Why Julia\n",
    "\n",
    "Who should think about using Julia?\n",
    "\n",
    "Why should you use Julia?"
   ]
  },
  {
   "cell_type": "markdown",
   "metadata": {
    "slideshow": {
     "slide_type": "slide"
    }
   },
   "source": [
    "# Why Julia\n",
    "\n",
    "Julia is made for scientific computing\n",
    "\n",
    "Julia has a unique combination of ease and speed"
   ]
  },
  {
   "cell_type": "markdown",
   "metadata": {},
   "source": [
    "# Speed\n",
    "\n",
    "**It is rather fast under standard benchmarks**\n",
    "\n",
    "![julia, super fast](images/julia_basic_speeds.png)"
   ]
  },
  {
   "cell_type": "markdown",
   "metadata": {
    "slideshow": {
     "slide_type": "slide"
    }
   },
   "source": [
    "# Speed\n",
    "\n",
    "**It is fast for econ problems**\n",
    "\n",
    "![julia, super fast](images/julia_econ_speeds.png)"
   ]
  },
  {
   "cell_type": "markdown",
   "metadata": {
    "slideshow": {
     "slide_type": "slide"
    }
   },
   "source": [
    "# Reproducibility\n",
    "\n",
    "Julia makes reproducibility and versioning way easier than other languages because of the package manager `Pkg` and the IDE Atom\n",
    "\n",
    "All you need to do is activate your project `Pkg.activate(\"directory_here\")` and it generates `.toml` files that give the unique GitHub SHA hashes for the package versions and all dependencies\n",
    "\n",
    "```\n",
    "\n",
    "[[Adapt]]\n",
    "deps = [\"LinearAlgebra\"]\n",
    "git-tree-sha1 = \"0fac443759fa829ed8066db6cf1077d888bb6573\"\n",
    "uuid = \"79e6a3ab-5dfb-504d-930d-738a2a938a0e\"\n",
    "version = \"2.0.2\"\n",
    "\n",
    "[[ColorSchemes]]\n",
    "deps = [\"ColorTypes\", \"Colors\", \"FixedPointNumbers\", \"Random\", \"StaticArrays\"]\n",
    "git-tree-sha1 = \"7a15e3690529fd1042f0ab954dff7445b1efc8a5\"\n",
    "uuid = \"35d6a980-a343-548e-a6ea-1d62b119f2f4\"\n",
    "version = \"3.9.0\"\n",
    "```"
   ]
  },
  {
   "cell_type": "markdown",
   "metadata": {
    "slideshow": {
     "slide_type": "slide"
    }
   },
   "source": [
    "# Reproducibility\n",
    "\n",
    "Others can instantiate your project quickly with `Pkg.instantiate()`\n",
    "\n",
    "The main IDE Atom integrates with GitHub making version control very easy as well\n",
    "\n",
    "![github in atom](images/atom_github.png)"
   ]
  },
  {
   "cell_type": "markdown",
   "metadata": {
    "slideshow": {
     "slide_type": "slide"
    }
   },
   "source": [
    "# Who should use Julia?\n",
    "\n",
    "Macro, IO, structural people mostly: those who generally might code up their own stuff from scratch or have a serious need for speed\n",
    "\n",
    "Anything that is traditionally done in MATLAB or Python can be done faster and cleaner in Julia\n",
    "\n",
    "ML package ecosystem is also getting pretty decent but it won't always have the econ versions for things (e.g. double selection LASSO)"
   ]
  },
  {
   "cell_type": "markdown",
   "metadata": {
    "slideshow": {
     "slide_type": "fragment"
    }
   },
   "source": [
    "The applied micro package ecosystem is not as developed as Stata or R\n",
    "\n",
    "I wouldn't recommend Julia if people in your field typically use Stata and you're only working with $N\\approx 10^5-10^6$\n",
    "\n",
    "If you have a need to run high dimensional fixed effects models it's probably easier to call `fixest::feols` in R using shell commands in Stata than learning Julia"
   ]
  },
  {
   "cell_type": "markdown",
   "metadata": {
    "slideshow": {
     "slide_type": "slide"
    }
   },
   "source": [
    "# What is Julia?\n",
    "\n",
    "Distinctive aspects of Julia's design include a type system with parametric polymorphism in a **dynamic programming language**; with **multiple dispatch** as its core programming paradigm. Julia supports concurrent, (composable) parallel and distributed computing (with or without using MPI and/or the built-in corresponding to \"OpenMP-style\" threads), and direct calling of C and Fortran libraries without glue code. Julia uses a **just-in-time (JIT) compiler** that is referred to as \"just-ahead-of-time\" (JAOT) in the Julia community, as Julia compiles (on default settings) to machine code before running it."
   ]
  },
  {
   "cell_type": "markdown",
   "metadata": {
    "slideshow": {
     "slide_type": "slide"
    }
   },
   "source": [
    "# Language characteristics\n",
    "\n",
    "**Dynamically typed** Julia doesn't need types to be known until runtime (Julia, R, MATLAB, Python)\n",
    "\n",
    "**Compiled:** Julia is translated to machine code by a **just-in-time** compiler, makes it faster than intepreted languages like R or Python (Julia, C variants, Java, FORTRAN)\n",
    "\n",
    "This combination is relatively rare and lets you have speed of C/FORTRAN with the interactiveness and flexibility of R, Python, Stata (interpreting code at runtime has a lot of overhead $\\rightarrow$ slow)\n",
    "\n",
    "This does come with some costs of **needing to know what you're doing**\n",
    "\n",
    "If you code without thinking you'll just get R or Python speed (but imo still better coding syntax)"
   ]
  },
  {
   "cell_type": "markdown",
   "metadata": {
    "slideshow": {
     "slide_type": "slide"
    }
   },
   "source": [
    "# Basic Julia features that are kind of cool for economists"
   ]
  },
  {
   "cell_type": "code",
   "execution_count": 6,
   "metadata": {
    "slideshow": {
     "slide_type": "fragment"
    }
   },
   "outputs": [
    {
     "name": "stdout",
     "output_type": "stream",
     "text": [
      "Julia can use mathematical symbols within the code, \n",
      "    mapping more directly into your papers: N(μ,σ) draw = 4.2893553204053205\n"
     ]
    }
   ],
   "source": [
    "μ = 5\n",
    "σ = 1\n",
    "\n",
    "println(\"Julia can use mathematical symbols within the code, \n",
    "    mapping more directly into your papers: N(μ,σ) draw = $(randn()*σ + μ)\")"
   ]
  },
  {
   "cell_type": "markdown",
   "metadata": {
    "slideshow": {
     "slide_type": "slide"
    }
   },
   "source": []
  },
  {
   "cell_type": "code",
   "execution_count": null,
   "metadata": {},
   "outputs": [],
   "source": []
  }
 ],
 "metadata": {
  "celltoolbar": "Slideshow",
  "kernelspec": {
   "display_name": "Julia 1.5.0",
   "language": "julia",
   "name": "julia-1.5"
  },
  "language_info": {
   "file_extension": ".jl",
   "mimetype": "application/julia",
   "name": "julia",
   "version": "1.5.0"
  },
  "livereveal": {
   "theme": "white",
   "transition": "fade"
  },
  "rise": {
   "autolaunch": true,
   "enable_chalkboard": true,
   "height": "100%",
   "margin-top": 0,
   "scroll": true,
   "start_slideshow_at": "beginning",
   "top": 0,
   "width": "100%"
  },
  "varInspector": {
   "cols": {
    "lenName": 16,
    "lenType": 16,
    "lenVar": 40
   },
   "kernels_config": {
    "python": {
     "delete_cmd_postfix": "",
     "delete_cmd_prefix": "del ",
     "library": "var_list.py",
     "varRefreshCmd": "print(var_dic_list())"
    },
    "r": {
     "delete_cmd_postfix": ") ",
     "delete_cmd_prefix": "rm(",
     "library": "var_list.r",
     "varRefreshCmd": "cat(var_dic_list()) "
    }
   },
   "types_to_exclude": [
    "module",
    "function",
    "builtin_function_or_method",
    "instance",
    "_Feature"
   ],
   "window_display": false
  }
 },
 "nbformat": 4,
 "nbformat_minor": 4
}
