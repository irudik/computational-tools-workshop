{
 "cells": [
  {
   "cell_type": "markdown",
   "metadata": {
    "slideshow": {
     "slide_type": "slide"
    }
   },
   "source": [
    "# Computational tools for social scientists\n",
    "## A reproducible report with Jupyter and Julia\n",
    "## Ivan Rudik"
   ]
  },
  {
   "cell_type": "markdown",
   "metadata": {
    "slideshow": {
     "slide_type": "slide"
    }
   },
   "source": [
    "# Jupyter\n",
    "\n",
    "What's a Jupyter notebook?"
   ]
  },
  {
   "cell_type": "markdown",
   "metadata": {
    "slideshow": {
     "slide_type": "fragment"
    }
   },
   "source": [
    "A web-based computational environment with a bunch of input/output cells that have code, markdown, plots, and other stuff"
   ]
  },
  {
   "cell_type": "code",
   "execution_count": 1,
   "metadata": {},
   "outputs": [
    {
     "name": "stderr",
     "output_type": "stream",
     "text": [
      "\u001b[32m\u001b[1m  Activating\u001b[22m\u001b[39m environment at `~/Desktop/git/computational-tools-workshop/Project.toml`\n"
     ]
    }
   ],
   "source": [
    "using Pkg\n",
    "Pkg.activate(\".\")\n",
    "Pkg.instantiate()"
   ]
  },
  {
   "cell_type": "code",
   "execution_count": 2,
   "metadata": {
    "slideshow": {
     "slide_type": "fragment"
    }
   },
   "outputs": [
    {
     "name": "stdout",
     "output_type": "stream",
     "text": [
      "Your GR installation is incomplete. Rerunning build step for GR package.\n"
     ]
    },
    {
     "name": "stderr",
     "output_type": "stream",
     "text": [
      "┌ Info: Creating depsfile. GR provider is BinaryBuilder\n",
      "│   provider = BinaryBuilder\n",
      "│   depsfile = /Users/ir229/.julia/packages/GR/bVi3d/deps/deps.jl\n",
      "└ @ GR.Builder /Users/ir229/.julia/packages/GR/bVi3d/deps/build.jl:119\n",
      "┌ Info: GR was successfully rebuilt\n",
      "└ @ GR /Users/ir229/.julia/packages/GR/bVi3d/src/GR.jl:360\n"
     ]
    },
    {
     "data": {
      "text/plain": [
       "demand (generic function with 1 method)"
      ]
     },
     "execution_count": 2,
     "metadata": {},
     "output_type": "execute_result"
    }
   ],
   "source": [
    "using Plots\n",
    "x = collect(range(.1, stop = .2, length = 10)) # generate evenly spaced grid\n",
    "mc = ones(size(x)).*2                          # generate equal length vector of mc=2\n",
    "\n",
    "# Demand function\n",
    "demand(p) = p.^(-0.2)/2 .+ p.^(-0.5)/2"
   ]
  },
  {
   "cell_type": "code",
   "execution_count": 3,
   "metadata": {
    "slideshow": {
     "slide_type": "slide"
    }
   },
   "outputs": [
    {
     "ename": "LoadError",
     "evalue": "UndefVarError: price not defined",
     "output_type": "error",
     "traceback": [
      "UndefVarError: price not defined",
      "",
      "Stacktrace:",
      " [1] top-level scope",
      "   @ In[3]:2",
      " [2] eval",
      "   @ ./boot.jl:360 [inlined]",
      " [3] include_string(mapexpr::typeof(REPL.softscope), mod::Module, code::String, filename::String)",
      "   @ Base ./loading.jl:1116"
     ]
    }
   ],
   "source": [
    "# Get corresponding quantity values at these prices\n",
    "y = demand(x)\n",
    "plot(x, [y mc],\n",
    "    linestyle = [:solid :dot],\n",
    "    linewidth = [3 3],\n",
    "    linecolor = [:red :blue],\n",
    "    tickfontsize = 12,\n",
    "    grid = :no,\n",
    "    xlabel = \"Quantity\",\n",
    "    ylabel = \"Price\",\n",
    "    label = [\"p(q)\" \"Marginal Cost\"])"
   ]
  },
  {
   "cell_type": "markdown",
   "metadata": {
    "slideshow": {
     "slide_type": "fragment"
    }
   },
   "source": [
    "The notebook can be easily exported to html, pdf, latex, etc"
   ]
  },
  {
   "cell_type": "markdown",
   "metadata": {
    "slideshow": {
     "slide_type": "fragment"
    }
   },
   "source": [
    "Jupyter is named after its three core languages: **Ju**lia, **Py**thon, **R**"
   ]
  },
  {
   "cell_type": "markdown",
   "metadata": {
    "slideshow": {
     "slide_type": "slide"
    }
   },
   "source": [
    "# Why use Jupyter notebooks?"
   ]
  },
  {
   "cell_type": "markdown",
   "metadata": {
    "slideshow": {
     "slide_type": "fragment"
    }
   },
   "source": [
    "## Integrated\n",
    "\n",
    "The code, description, and output are in a single document\n",
    "\n",
    "This promotes an iterative, on-the-fly workflow"
   ]
  },
  {
   "cell_type": "markdown",
   "metadata": {
    "slideshow": {
     "slide_type": "fragment"
    }
   },
   "source": [
    "## Fast\n",
    "\n",
    "You can spin up a notebook session really quick, in shell just type: ``jupyter notebook``\n",
    "\n",
    "You can compile a new, single block of code with just `cmd+enter`"
   ]
  },
  {
   "cell_type": "markdown",
   "metadata": {
    "slideshow": {
     "slide_type": "fragment"
    }
   },
   "source": [
    "## Portable\n",
    "\n",
    "You run notebooks in a web browser and VSCode with or without an internet connection, send and use notebooks across OS's easily"
   ]
  },
  {
   "cell_type": "markdown",
   "metadata": {
    "slideshow": {
     "slide_type": "slide"
    }
   },
   "source": [
    "# How to think about Jupyter\n",
    "\n",
    "One way to think about it is along a spectrum of integration/speed\n",
    "\n",
    "## Separate code/document/output\n",
    "1. Write code\n",
    "2. Execute code\n",
    "3. Write document\n",
    "4. Execute document\n",
    "\n",
    "## RMarkdown\n",
    "1. Write code and document\n",
    "2. Execute code and document\n",
    "\n",
    "## Jupyter\n",
    "1. Write code and/or document chunk\n",
    "2. Execute code and/or document chunk\n",
    "3. Repeat"
   ]
  },
  {
   "cell_type": "markdown",
   "metadata": {
    "slideshow": {
     "slide_type": "slide"
    }
   },
   "source": [
    "# Ways to use Jupyter"
   ]
  },
  {
   "cell_type": "markdown",
   "metadata": {
    "slideshow": {
     "slide_type": "fragment"
    }
   },
   "source": [
    "## Slides\n",
    "\n",
    "You can use Jupyter with RISE and reveal.js to make a relatively decent set of slides\n",
    "\n",
    "Code is embedded so it's dynamic like LaTeX\n",
    "\n",
    "Takes a little bit of css work to make it look good\n",
    "\n",
    "Works similarly to RMarkdown slides, but with better integration / on-the-fly capabilities"
   ]
  },
  {
   "cell_type": "markdown",
   "metadata": {
    "slideshow": {
     "slide_type": "fragment"
    }
   },
   "source": [
    "## Prelim analyses\n",
    "\n",
    "I'll start new code in Jupyter notebooks since they're quick to spin up and code interactively\n",
    "\n",
    "Also make for a nice way to share results with co-authors since you can add text / description throughout in a clear way"
   ]
  },
  {
   "cell_type": "markdown",
   "metadata": {
    "slideshow": {
     "slide_type": "slide"
    }
   },
   "source": [
    "# How to use a notebook\n",
    "\n",
    "Finally, how do we navigate and use a notebook?\n",
    "\n",
    "Exit out of the slides with `alt+r` and we will explore the Jupyter interface"
   ]
  },
  {
   "cell_type": "code",
   "execution_count": 4,
   "metadata": {
    "slideshow": {
     "slide_type": "slide"
    }
   },
   "outputs": [
    {
     "name": "stdout",
     "output_type": "stream",
     "text": [
      "5+5 = 10.\n"
     ]
    }
   ],
   "source": [
    "# This is a code cell\n",
    "# Press cmd+enter to run, shift+enter to run and move to the next cell\n",
    "foobar = 5+5\n",
    "\n",
    "println(\"5+5 = $foobar.\")"
   ]
  },
  {
   "cell_type": "code",
   "execution_count": 5,
   "metadata": {
    "slideshow": {
     "slide_type": "slide"
    }
   },
   "outputs": [
    {
     "name": "stdout",
     "output_type": "stream",
     "text": [
      "Again, 5+5 = 10.\n"
     ]
    }
   ],
   "source": [
    "# Cells can reference variables defined in previous cells\n",
    "\n",
    "println(\"Again, 5+5 = $foobar.\")"
   ]
  },
  {
   "cell_type": "code",
   "execution_count": 6,
   "metadata": {
    "slideshow": {
     "slide_type": "slide"
    }
   },
   "outputs": [
    {
     "data": {
      "text/plain": [
       "5-element Vector{Float64}:\n",
       "  0.7841295946313819\n",
       "  0.7513739864773739\n",
       "  0.8035199588959565\n",
       " -1.6359617126881012\n",
       "  0.5610554369390122"
      ]
     },
     "execution_count": 6,
     "metadata": {},
     "output_type": "execute_result"
    }
   ],
   "source": [
    "#You can have slightly more complicated expressions and computations\n",
    "using Random\n",
    "Random.seed!(1234321)\n",
    "\n",
    "A = rand(5, 5) # Random 5x5 array\n",
    "b = rand(5) # Random 5 element vector\n",
    "x = A\\b # Solve the linear system"
   ]
  },
  {
   "cell_type": "markdown",
   "metadata": {
    "slideshow": {
     "slide_type": "slide"
    }
   },
   "source": [
    "# Why Julia\n",
    "\n",
    "Who should think about using Julia?\n",
    "\n",
    "Why should you use Julia?"
   ]
  },
  {
   "cell_type": "markdown",
   "metadata": {
    "slideshow": {
     "slide_type": "slide"
    }
   },
   "source": [
    "# Why Julia\n",
    "\n",
    "Julia is made for scientific computing\n",
    "\n",
    "Julia has a unique combination of ease and speed"
   ]
  },
  {
   "cell_type": "markdown",
   "metadata": {
    "slideshow": {
     "slide_type": "slide"
    }
   },
   "source": [
    "# Speed\n",
    "\n",
    "**It is rather fast under standard benchmarks**\n",
    "\n",
    "![julia, super fast](images/julia_basic_speeds.png)"
   ]
  },
  {
   "cell_type": "markdown",
   "metadata": {
    "slideshow": {
     "slide_type": "slide"
    }
   },
   "source": [
    "# Speed\n",
    "\n",
    "**It is fast for econ problems**\n",
    "\n",
    "![julia, super fast](images/julia_econ_speeds.png)"
   ]
  },
  {
   "cell_type": "markdown",
   "metadata": {
    "slideshow": {
     "slide_type": "slide"
    }
   },
   "source": [
    "# Reproducibility\n",
    "\n",
    "Julia makes reproducibility and versioning way easier than other languages because of the package manager `Pkg` and the IDE Atom\n",
    "\n",
    "All you need to do is activate your project `Pkg.activate(\"directory_here\")` and it generates `.toml` files that give the unique GitHub SHA hashes for the package versions and all dependencies\n",
    "\n",
    "```\n",
    "\n",
    "[[Adapt]]\n",
    "deps = [\"LinearAlgebra\"]\n",
    "git-tree-sha1 = \"0fac443759fa829ed8066db6cf1077d888bb6573\"\n",
    "uuid = \"79e6a3ab-5dfb-504d-930d-738a2a938a0e\"\n",
    "version = \"2.0.2\"\n",
    "\n",
    "[[ColorSchemes]]\n",
    "deps = [\"ColorTypes\", \"Colors\", \"FixedPointNumbers\", \"Random\", \"StaticArrays\"]\n",
    "git-tree-sha1 = \"7a15e3690529fd1042f0ab954dff7445b1efc8a5\"\n",
    "uuid = \"35d6a980-a343-548e-a6ea-1d62b119f2f4\"\n",
    "version = \"3.9.0\"\n",
    "```"
   ]
  },
  {
   "cell_type": "markdown",
   "metadata": {
    "slideshow": {
     "slide_type": "slide"
    }
   },
   "source": [
    "# Reproducibility\n",
    "\n",
    "Others can instantiate your project quickly with `Pkg.instantiate()` as in the top code cell\n",
    "\n",
    "Atom/VSCode integrate with GitHub making version control very easy as well\n",
    "\n",
    "VSCode also integrates well with Jupyter (wrote this notebook using VSCode!)\n",
    "\n",
    "![github in atom](images/atom_github.png)"
   ]
  },
  {
   "cell_type": "markdown",
   "metadata": {
    "slideshow": {
     "slide_type": "slide"
    }
   },
   "source": [
    "# Who should use Julia?\n",
    "\n",
    "Macro, IO, structural people mostly: those who generally might code up their own stuff from scratch or have a serious need for speed\n",
    "\n",
    "Anything that is traditionally done in MATLAB or Python can be done faster and cleaner in Julia\n",
    "\n",
    "ML package ecosystem is also getting pretty decent but it won't always have the econ versions for things (e.g. double selection LASSO)"
   ]
  },
  {
   "cell_type": "markdown",
   "metadata": {
    "slideshow": {
     "slide_type": "fragment"
    }
   },
   "source": [
    "The applied micro package ecosystem is not as developed as Stata or R\n",
    "\n",
    "I wouldn't recommend Julia if people in your field typically use Stata and you're only working with $N\\approx 10^5-10^6$\n",
    "\n",
    "If you have a need to run high dimensional fixed effects models it's probably easier to call `fixest::feols` in R using shell commands in Stata than learning Julia"
   ]
  },
  {
   "cell_type": "markdown",
   "metadata": {
    "slideshow": {
     "slide_type": "slide"
    }
   },
   "source": [
    "# What is Julia?\n",
    "\n",
    "Distinctive aspects of Julia's design include a type system with parametric polymorphism in a **dynamic programming language**; with **multiple dispatch** as its core programming paradigm [...] Julia uses a **just-in-time (JIT) compiler** that is referred to as \"just-ahead-of-time\" (JAOT) in the Julia community, as Julia compiles (on default settings) to machine code before running it."
   ]
  },
  {
   "cell_type": "markdown",
   "metadata": {
    "slideshow": {
     "slide_type": "slide"
    }
   },
   "source": [
    "# Language characteristics\n",
    "\n",
    "**Dynamically typed:** Julia doesn't need types to be known until runtime (Julia, R, MATLAB, Python)\n",
    "- All of these languages you can code interactively in the IDE/REPL\n",
    "\n",
    "**Statically typed:** These languages enforce type at compile time, typically need to be declared (C++, Java, FORTRAN)\n",
    "\n",
    "**Compiled:** Julia is translated to machine code by a **just-in-time** compiler, makes it faster than intepreted languages like R or Python (Julia, C variants, Java, FORTRAN)\n",
    "- Julia typically gains its speed after a pre-compile of your functions\n",
    "\n",
    "**Interpreted:** These langauges execute instructions freely without being compiled beforehand. This gives a lot of flexibility, allows for more interactive coding.\n",
    "\n",
    "This combination of dynamic + compiled is relatively rare and lets you have speed of C/FORTRAN with the interactiveness and flexibility of R, Python, Stata (interpreting code at runtime has a lot of overhead $\\rightarrow$ slow)\n",
    "\n",
    "This does come with some costs of **needing to know what you're doing**\n",
    "\n",
    "If you code without thinking you'll just get R or Python speed (but imo still better coding syntax)"
   ]
  },
  {
   "cell_type": "markdown",
   "metadata": {
    "slideshow": {
     "slide_type": "slide"
    }
   },
   "source": [
    "# Basic Julia features that are kind of cool for economists"
   ]
  },
  {
   "cell_type": "code",
   "execution_count": 7,
   "metadata": {
    "slideshow": {
     "slide_type": "fragment"
    }
   },
   "outputs": [
    {
     "name": "stdout",
     "output_type": "stream",
     "text": [
      "Julia can use mathematical symbols within the code, \n",
      "    mapping more directly into your papers: N(μ,σ) draw = 4.508935898483344\n"
     ]
    }
   ],
   "source": [
    "μ = 5\n",
    "σ = 1\n",
    "\n",
    "println(\"Julia can use mathematical symbols within the code, \n",
    "    mapping more directly into your papers: N(μ,σ) draw = $(randn()*σ + μ)\")"
   ]
  },
  {
   "cell_type": "markdown",
   "metadata": {
    "slideshow": {
     "slide_type": "slide"
    }
   },
   "source": [
    "# Parametric types\n",
    "\n",
    "Julia has what is known as *parametric types*"
   ]
  },
  {
   "cell_type": "code",
   "execution_count": 8,
   "metadata": {
    "slideshow": {
     "slide_type": "fragment"
    }
   },
   "outputs": [
    {
     "data": {
      "text/plain": [
       "1.0"
      ]
     },
     "execution_count": 8,
     "metadata": {},
     "output_type": "execute_result"
    }
   ],
   "source": [
    "struct FooParam{t1 <: Real, t2 <: Real, t3 <: AbstractArray{<:Real}}\n",
    "   a::t1\n",
    "   b::t2\n",
    "   c::t3\n",
    " end\n",
    "newfoo_para = FooParam(1.0, 7, [1., 4., 6.])\n",
    "\n",
    "newfoo_para.a"
   ]
  },
  {
   "cell_type": "markdown",
   "metadata": {
    "slideshow": {
     "slide_type": "fragment"
    }
   },
   "source": [
    "This allows you to define variable types that are specific to your problem (e.g. a `Real`, a `Real`, an `Array` of `Real`s)\n",
    "\n",
    "It allows you to maintain flexibility by declaring **abstract types**\n",
    "\n",
    "When code is compiled, Julia will be able to deliver type-specific functions (e.g. it knows ahead of time to use `Float64` libraries) even with the abstract types\n",
    "\n",
    "This is part of how you get C speeds with dynamic typing"
   ]
  },
  {
   "cell_type": "markdown",
   "metadata": {
    "slideshow": {
     "slide_type": "slide"
    }
   },
   "source": [
    "# Generic coding infrastructure\n",
    "\n",
    "Speed in a dynamically typed language comes from letting the compiler know types will be stable $\\rightarrow$ it can compile type specific functions"
   ]
  },
  {
   "cell_type": "markdown",
   "metadata": {
    "slideshow": {
     "slide_type": "fragment"
    }
   },
   "source": [
    "This seems tricky if we don't want to declare types ahead of time but it can be done with generic coding:"
   ]
  },
  {
   "cell_type": "code",
   "execution_count": 9,
   "metadata": {
    "slideshow": {
     "slide_type": "fragment"
    }
   },
   "outputs": [
    {
     "data": {
      "text/plain": [
       "sametypes (generic function with 1 method)"
      ]
     },
     "execution_count": 9,
     "metadata": {},
     "output_type": "execute_result"
    }
   ],
   "source": [
    " using LinearAlgebra               # necessary for I\n",
    " function sametypes(x)\n",
    "   y = similar(x)                  # creates an array that is `similar` to x, use this for preallocating\n",
    "   z = I                           # creates a scalable identity matrix\n",
    "   q = ones(eltype(x), length(x))  # one is a type generic array of ones, fill creates the array of length(x)\n",
    "   y .= z * x + q\n",
    "   return y\n",
    " end"
   ]
  },
  {
   "cell_type": "code",
   "execution_count": 10,
   "metadata": {
    "slideshow": {
     "slide_type": "fragment"
    }
   },
   "outputs": [
    {
     "name": "stdout",
     "output_type": "stream",
     "text": [
      "x is Vector{Float64}, y is Vector{Int64}."
     ]
    }
   ],
   "source": [
    "# Generic coding infrastructure\n",
    "x = [5.5, 7.0, 3.1];\n",
    "y = [7, 8, 9];\n",
    "print(\"x is $(typeof(x)), y is $(typeof(y)).\")"
   ]
  },
  {
   "cell_type": "markdown",
   "metadata": {
    "slideshow": {
     "slide_type": "fragment"
    }
   },
   "source": [
    "Let's see the types of the variables throughout the function"
   ]
  },
  {
   "cell_type": "code",
   "execution_count": 11,
   "metadata": {
    "slideshow": {
     "slide_type": "slide"
    }
   },
   "outputs": [
    {
     "name": "stdout",
     "output_type": "stream",
     "text": [
      "Variables\n",
      "  #self#\u001b[36m::Core.Const(sametypes)\u001b[39m\n",
      "  x\u001b[36m::Vector{Float64}\u001b[39m\n",
      "  q\u001b[36m::Vector{Float64}\u001b[39m\n",
      "  z\u001b[36m::UniformScaling{Bool}\u001b[39m\n",
      "  y\u001b[36m::Vector{Float64}\u001b[39m\n",
      "\n",
      "Body\u001b[36m::Vector{Float64}\u001b[39m\n",
      "\u001b[90m1 ─\u001b[39m      (y = Main.similar(x))\n",
      "\u001b[90m│  \u001b[39m      (z = Main.I)\n",
      "\u001b[90m│  \u001b[39m %3 = Main.eltype(x)\u001b[36m::Core.Const(Float64)\u001b[39m\n",
      "\u001b[90m│  \u001b[39m %4 = Main.length(x)\u001b[36m::Int64\u001b[39m\n",
      "\u001b[90m│  \u001b[39m      (q = Main.ones(%3, %4))\n",
      "\u001b[90m│  \u001b[39m %6 = y\u001b[36m::Vector{Float64}\u001b[39m\n",
      "\u001b[90m│  \u001b[39m %7 = (z::Core.Const(UniformScaling{Bool}(true)) * x)\u001b[36m::Vector{Float64}\u001b[39m\n",
      "\u001b[90m│  \u001b[39m %8 = (%7 + q)\u001b[36m::Vector{Float64}\u001b[39m\n",
      "\u001b[90m│  \u001b[39m %9 = Base.broadcasted(Base.identity, %8)\u001b[36m::Base.Broadcast.Broadcasted{Base.Broadcast.DefaultArrayStyle{1}, Nothing, typeof(identity), Tuple{Vector{Float64}}}\u001b[39m\n",
      "\u001b[90m│  \u001b[39m      Base.materialize!(%6, %9)\n",
      "\u001b[90m└──\u001b[39m      return y\n"
     ]
    }
   ],
   "source": [
    "@code_warntype sametypes(x)"
   ]
  },
  {
   "cell_type": "code",
   "execution_count": 12,
   "metadata": {
    "slideshow": {
     "slide_type": "fragment"
    }
   },
   "outputs": [
    {
     "name": "stdout",
     "output_type": "stream",
     "text": [
      "Variables\n",
      "  #self#\u001b[36m::Core.Const(sametypes)\u001b[39m\n",
      "  x\u001b[36m::Vector{Int64}\u001b[39m\n",
      "  q\u001b[36m::Vector{Int64}\u001b[39m\n",
      "  z\u001b[36m::UniformScaling{Bool}\u001b[39m\n",
      "  y\u001b[36m::Vector{Int64}\u001b[39m\n",
      "\n",
      "Body\u001b[36m::Vector{Int64}\u001b[39m\n",
      "\u001b[90m1 ─\u001b[39m      (y = Main.similar(x))\n",
      "\u001b[90m│  \u001b[39m      (z = Main.I)\n",
      "\u001b[90m│  \u001b[39m %3 = Main.eltype(x)\u001b[36m::Core.Const(Int64)\u001b[39m\n",
      "\u001b[90m│  \u001b[39m %4 = Main.length(x)\u001b[36m::Int64\u001b[39m\n",
      "\u001b[90m│  \u001b[39m      (q = Main.ones(%3, %4))\n",
      "\u001b[90m│  \u001b[39m %6 = y\u001b[36m::Vector{Int64}\u001b[39m\n",
      "\u001b[90m│  \u001b[39m %7 = (z::Core.Const(UniformScaling{Bool}(true)) * x)\u001b[36m::Vector{Int64}\u001b[39m\n",
      "\u001b[90m│  \u001b[39m %8 = (%7 + q)\u001b[36m::Vector{Int64}\u001b[39m\n",
      "\u001b[90m│  \u001b[39m %9 = Base.broadcasted(Base.identity, %8)\u001b[36m::Base.Broadcast.Broadcasted{Base.Broadcast.DefaultArrayStyle{1}, Nothing, typeof(identity), Tuple{Vector{Int64}}}\u001b[39m\n",
      "\u001b[90m│  \u001b[39m      Base.materialize!(%6, %9)\n",
      "\u001b[90m└──\u001b[39m      return y\n"
     ]
    }
   ],
   "source": [
    "@code_warntype sametypes(y)"
   ]
  },
  {
   "cell_type": "markdown",
   "metadata": {
    "slideshow": {
     "slide_type": "slide"
    }
   },
   "source": [
    "The function maintained the same type throughout given the input types: this is called **type stability**\n",
    "\n",
    "If `sametypes` gets `Int64` inputs, it knows to use the compiled `Int64` version of the function rather than deciding at runtime $\\rightarrow$ significant speed up vs interpreted languages"
   ]
  }
 ],
 "metadata": {
  "@webio": {
   "lastCommId": null,
   "lastKernelId": null
  },
  "celltoolbar": "Slideshow",
  "kernelspec": {
   "display_name": "Julia 1.6.2",
   "language": "julia",
   "name": "julia-1.6"
  },
  "language_info": {
   "file_extension": ".jl",
   "mimetype": "application/julia",
   "name": "julia",
   "version": "1.6.2"
  },
  "livereveal": {
   "theme": "white",
   "transition": "fade"
  },
  "rise": {
   "autolaunch": true,
   "enable_chalkboard": true,
   "height": "100%",
   "margin-top": 0,
   "scroll": true,
   "start_slideshow_at": "beginning",
   "top": 0,
   "width": "100%"
  },
  "varInspector": {
   "cols": {
    "lenName": 16,
    "lenType": 16,
    "lenVar": 40
   },
   "kernels_config": {
    "python": {
     "delete_cmd_postfix": "",
     "delete_cmd_prefix": "del ",
     "library": "var_list.py",
     "varRefreshCmd": "print(var_dic_list())"
    },
    "r": {
     "delete_cmd_postfix": ") ",
     "delete_cmd_prefix": "rm(",
     "library": "var_list.r",
     "varRefreshCmd": "cat(var_dic_list()) "
    }
   },
   "types_to_exclude": [
    "module",
    "function",
    "builtin_function_or_method",
    "instance",
    "_Feature"
   ],
   "window_display": false
  }
 },
 "nbformat": 4,
 "nbformat_minor": 4
}
